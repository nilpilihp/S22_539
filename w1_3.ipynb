{
  "nbformat": 4,
  "nbformat_minor": 0,
  "metadata": {
    "colab": {
      "name": "w1_3.ipynb",
      "provenance": [],
      "collapsed_sections": [],
      "authorship_tag": "ABX9TyPexq42g1167C06SdTbrQ+n",
      "include_colab_link": true
    },
    "kernelspec": {
      "name": "python3",
      "display_name": "Python 3"
    },
    "language_info": {
      "name": "python"
    }
  },
  "cells": [
    {
      "cell_type": "markdown",
      "metadata": {
        "id": "view-in-github",
        "colab_type": "text"
      },
      "source": [
        "<a href=\"https://colab.research.google.com/github/nilpilihp/S22_539/blob/main/w1_3.ipynb\" target=\"_parent\"><img src=\"https://colab.research.google.com/assets/colab-badge.svg\" alt=\"Open In Colab\"/></a>"
      ]
    },
    {
      "cell_type": "code",
      "metadata": {
        "id": "DbNqQZAPGHZ6"
      },
      "source": [
        "import numpy as np\n",
        "import matplotlib.pyplot as plt\n",
        "import io\n",
        "from google.colab import files\n",
        "from google.colab import drive"
      ],
      "execution_count": null,
      "outputs": []
    },
    {
      "cell_type": "code",
      "metadata": {
        "id": "hZxJFhoYGKWT"
      },
      "source": [
        "# (a)_1 read the csv file through local file\n",
        "uploaded  = files.upload()\n",
        "A = np.genfromtxt(io.BytesIO(uploaded['iris.csv']),delimiter=',')"
      ],
      "execution_count": null,
      "outputs": []
    },
    {
      "cell_type": "code",
      "metadata": {
        "id": "pPUpynWK_EuF"
      },
      "source": [
        "# (a)_2 read the csv file through Google Drive\n",
        "drive.mount('/content/drive')\n",
        "with open('/content/drive/My Drive/Colab Notebooks/w1/iris.csv', 'r') as f: \n",
        "  A = np.genfromtxt(f,delimiter=',')"
      ],
      "execution_count": null,
      "outputs": []
    },
    {
      "cell_type": "code",
      "metadata": {
        "id": "nefebY3IG9OT"
      },
      "source": [
        "#  (b) Feature matrix X and label vector y\n",
        "X = A[:,0:4]\n",
        "y = A[:,-1]"
      ],
      "execution_count": null,
      "outputs": []
    },
    {
      "cell_type": "code",
      "metadata": {
        "id": "kNvY9hlAI7mR"
      },
      "source": [
        "# (c) Find # of distinct classes in the set of class labels\n",
        "classLabels, counts = np.unique(y, return_counts=True)\n",
        "print('Unique class labels are: ', classLabels)\n",
        "print('# of distinct class labels = ', counts)"
      ],
      "execution_count": null,
      "outputs": []
    },
    {
      "cell_type": "code",
      "metadata": {
        "id": "bX4Kj3NXI9n_"
      },
      "source": [
        "# (d) Scatter plots\n",
        "plt.figure(1)\n",
        "plt.scatter(X[:,1],X[:,2], c=y, cmap=plt.cm.Set2)\n",
        "plt.xlabel('Sepal length')\n",
        "plt.ylabel('Sepal width')\n",
        "plt.show()"
      ],
      "execution_count": null,
      "outputs": []
    },
    {
      "cell_type": "code",
      "metadata": {
        "id": "RM1BMUmKAGog"
      },
      "source": [
        "drive.flush_and_unmount()"
      ],
      "execution_count": null,
      "outputs": []
    }
  ]
}